{
  "nbformat": 4,
  "nbformat_minor": 0,
  "metadata": {
    "colab": {
      "provenance": [],
      "authorship_tag": "ABX9TyPBQbCehRnBRNe6IR8XAeu7",
      "include_colab_link": true
    },
    "kernelspec": {
      "name": "python3",
      "display_name": "Python 3"
    },
    "language_info": {
      "name": "python"
    }
  },
  "cells": [
    {
      "cell_type": "markdown",
      "metadata": {
        "id": "view-in-github",
        "colab_type": "text"
      },
      "source": [
        "<a href=\"https://colab.research.google.com/github/Dashcloud-ML/Amazon_ml_challenge/blob/main/amazon_ml.ipynb\" target=\"_parent\"><img src=\"https://colab.research.google.com/assets/colab-badge.svg\" alt=\"Open In Colab\"/></a>"
      ]
    },
    {
      "cell_type": "code",
      "execution_count": 1,
      "metadata": {
        "id": "LCiuDq1L1y5E"
      },
      "outputs": [],
      "source": [
        "import pandas as pd\n",
        "import numpy as np\n",
        "import requests\n",
        "from PIL import Image\n",
        "from io import BytesIO\n",
        "from sklearn.model_selection import train_test_split\n",
        "from tensorflow.keras.models import Sequential\n",
        "from tensorflow.keras.layers import Conv2D, MaxPooling2D, Flatten, Dense, Dropout\n",
        "from tensorflow.keras.utils import to_categorical\n",
        "\n"
      ]
    },
    {
      "cell_type": "code",
      "source": [
        "# Step 1: Load Data\n",
        "train_data = pd.read_csv('/content/dataset/train.csv')\n"
      ],
      "metadata": {
        "id": "RdLrBG4V13OM"
      },
      "execution_count": null,
      "outputs": []
    },
    {
      "cell_type": "code",
      "source": [
        "# Step 2: Function to Download and Preprocess Images\n",
        "def download_and_preprocess_image(image_url, target_size=(128, 128)):\n",
        "    try:\n",
        "        response = requests.get(image_url, timeout=10)\n",
        "        response.raise_for_status()\n",
        "        img = Image.open(BytesIO(response.content))\n",
        "        img = img.resize(target_size)\n",
        "        return np.array(img)\n",
        "    except:\n",
        "        print(f\"Failed to download image: {image_url}\")\n",
        "        return np.zeros((128, 128, 3))  # Return a blank image if download fails\n"
      ],
      "metadata": {
        "id": "LAt8YhE5165h"
      },
      "execution_count": null,
      "outputs": []
    },
    {
      "cell_type": "code",
      "source": [
        "# Step 3: Download and Preprocess All Images\n",
        "image_features = []\n",
        "for image_url in train_data['image_link']:\n",
        "    img = download_and_preprocess_image(image_url)\n",
        "    image_features.append(img)\n",
        "\n",
        "image_features = np.array(image_features)\n"
      ],
      "metadata": {
        "id": "6stoYthY1-HH"
      },
      "execution_count": null,
      "outputs": []
    },
    {
      "cell_type": "code",
      "source": [
        "# Step 4: Prepare Labels (Numeric Value and Unit)\n",
        "values = train_data['value'].values  # Regression target\n",
        "units = pd.get_dummies(train_data['unit']).values  # One-hot encoded units"
      ],
      "metadata": {
        "id": "kv5p1VSQ2B-x"
      },
      "execution_count": null,
      "outputs": []
    },
    {
      "cell_type": "code",
      "source": [
        "# Step 5: Split Data into Training and Validation Sets\n",
        "X_train, X_val, y_train, y_val = train_test_split(image_features, values, test_size=0.2, random_state=42)\n",
        "unit_train, unit_val = train_test_split(units, test_size=0.2, random_state=42)\n"
      ],
      "metadata": {
        "id": "Xw7adaCF2GNF"
      },
      "execution_count": null,
      "outputs": []
    },
    {
      "cell_type": "code",
      "source": [
        "# Step 6: Build the CNN Model\n",
        "model = Sequential([\n",
        "    Conv2D(32, (3, 3), activation='relu', input_shape=(128, 128, 3)),\n",
        "    MaxPooling2D(pool_size=(2, 2)),\n",
        "    Conv2D(64, (3, 3), activation='relu'),\n",
        "    MaxPooling2D(pool_size=(2, 2)),\n",
        "    Conv2D(128, (3, 3), activation='relu'),\n",
        "    MaxPooling2D(pool_size=(2, 2)),\n",
        "    Flatten(),\n",
        "    Dense(128, activation='relu'),\n",
        "    Dropout(0.5),\n",
        "    Dense(64, activation='relu'),\n",
        "    Dense(1, activation='linear')  # For predicting numeric values\n",
        "])"
      ],
      "metadata": {
        "id": "mOr3hw8k2Izs"
      },
      "execution_count": null,
      "outputs": []
    },
    {
      "cell_type": "code",
      "source": [
        "# Step 7: Compile the Model\n",
        "model.compile(optimizer='adam', loss='mse', metrics=['mae'])\n"
      ],
      "metadata": {
        "id": "ln2G03dz2K2d"
      },
      "execution_count": null,
      "outputs": []
    },
    {
      "cell_type": "code",
      "source": [
        "# Step 8: Train the Model (Regression on values)\n",
        "model.fit(X_train, y_train, epochs=10, validation_data=(X_val, y_val))\n",
        "\n"
      ],
      "metadata": {
        "id": "SwOxDKgH2MjC"
      },
      "execution_count": null,
      "outputs": []
    },
    {
      "cell_type": "code",
      "source": [
        "# Step 9: Predict on Test Data\n",
        "test_features = []\n",
        "for image_url in test_data['image_link']:\n",
        "    img = download_and_preprocess_image(image_url)\n",
        "    test_features.append(img)\n",
        "\n",
        "test_features = np.array(test_features)\n",
        "predictions = model.predict(test_features)\n"
      ],
      "metadata": {
        "id": "Dd0bKzFJ2PsU"
      },
      "execution_count": null,
      "outputs": []
    },
    {
      "cell_type": "code",
      "source": [
        "# Step 10: Output Predictions in Desired Format\n",
        "# Format the output as required by the challenge"
      ],
      "metadata": {
        "id": "j0FSr3gF2VFd"
      },
      "execution_count": null,
      "outputs": []
    }
  ]
}